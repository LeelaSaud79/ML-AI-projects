{
 "cells": [
  {
   "cell_type": "code",
   "execution_count": null,
   "metadata": {
    "colab": {
     "base_uri": "https://localhost:8080/",
     "height": 80
    },
    "colab_type": "code",
    "executionInfo": {
     "elapsed": 4100,
     "status": "ok",
     "timestamp": 1583863149928,
     "user": {
      "displayName": "CHANDAN PATRA",
      "photoUrl": "https://lh3.googleusercontent.com/a-/AOh14GgztnbuP6iBQWXWO8NjIu-vEwtwRh0udTE34fPm=s64",
      "userId": "08536261493125902972"
     },
     "user_tz": -330
    },
    "id": "RgbWtbM04MNv",
    "outputId": "0f01b3d6-e3e2-4eb3-d0b2-12d877ab2c66"
   },
   "outputs": [],
   "source": [
    "#importing the libraries\n",
    "from keras.models import Sequential\n",
    "from keras.layers import Dense, Conv2D, Flatten, MaxPool2D\n",
    "from keras.datasets import mnist\n",
    "from keras.utils import to_categorical\n",
    "import numpy as np\n",
    "import matplotlib.pyplot as plt"
   ]
  },
  {
   "cell_type": "code",
   "execution_count": null,
   "metadata": {
    "colab": {
     "base_uri": "https://localhost:8080/",
     "height": 51
    },
    "colab_type": "code",
    "executionInfo": {
     "elapsed": 6856,
     "status": "ok",
     "timestamp": 1583863152695,
     "user": {
      "displayName": "CHANDAN PATRA",
      "photoUrl": "https://lh3.googleusercontent.com/a-/AOh14GgztnbuP6iBQWXWO8NjIu-vEwtwRh0udTE34fPm=s64",
      "userId": "08536261493125902972"
     },
     "user_tz": -330
    },
    "id": "DO-kvPRV4WVF",
    "outputId": "b58b9377-fc94-4086-e3fd-70ae9b2b7caf"
   },
   "outputs": [],
   "source": [
    "#Load the data and split it into train and test \n",
    "(X_train, y_train), (X_test, y_test) = mnist.load_data()"
   ]
  },
  {
   "cell_type": "code",
   "execution_count": null,
   "metadata": {
    "colab": {
     "base_uri": "https://localhost:8080/",
     "height": 51
    },
    "colab_type": "code",
    "executionInfo": {
     "elapsed": 6835,
     "status": "ok",
     "timestamp": 1583863152699,
     "user": {
      "displayName": "CHANDAN PATRA",
      "photoUrl": "https://lh3.googleusercontent.com/a-/AOh14GgztnbuP6iBQWXWO8NjIu-vEwtwRh0udTE34fPm=s64",
      "userId": "08536261493125902972"
     },
     "user_tz": -330
    },
    "id": "AkKf7oBS5Aa9",
    "outputId": "705584ad-e02f-4c68-f017-21f56226928b"
   },
   "outputs": [],
   "source": [
    "#Get the image shape\n",
    "print(X_train.shape)\n",
    "print(X_test.shape)"
   ]
  },
  {
   "cell_type": "code",
   "execution_count": null,
   "metadata": {
    "colab": {
     "base_uri": "https://localhost:8080/",
     "height": 282
    },
    "colab_type": "code",
    "executionInfo": {
     "elapsed": 8215,
     "status": "ok",
     "timestamp": 1583863154099,
     "user": {
      "displayName": "CHANDAN PATRA",
      "photoUrl": "https://lh3.googleusercontent.com/a-/AOh14GgztnbuP6iBQWXWO8NjIu-vEwtwRh0udTE34fPm=s64",
      "userId": "08536261493125902972"
     },
     "user_tz": -330
    },
    "id": "XTaLwzMl5jxL",
    "outputId": "059106bb-3041-417b-ebd8-750c2a6da9dc"
   },
   "outputs": [],
   "source": [
    "plt.imshow(X_train[2])"
   ]
  },
  {
   "cell_type": "code",
   "execution_count": null,
   "metadata": {},
   "outputs": [],
   "source": [
    "plt.imshow(X_train[9])"
   ]
  },
  {
   "cell_type": "code",
   "execution_count": null,
   "metadata": {},
   "outputs": [],
   "source": [
    "plt.imshow(X_train[14])"
   ]
  },
  {
   "cell_type": "code",
   "execution_count": null,
   "metadata": {},
   "outputs": [],
   "source": [
    "plt.imshow(X_train[18])"
   ]
  },
  {
   "cell_type": "code",
   "execution_count": null,
   "metadata": {},
   "outputs": [],
   "source": [
    "plt.imshow(X_train[25])"
   ]
  },
  {
   "cell_type": "code",
   "execution_count": null,
   "metadata": {
    "colab": {},
    "colab_type": "code",
    "id": "Gk8hOnqP6FUg"
   },
   "outputs": [],
   "source": [
    "# Reshaping the data to fit the model\n",
    "X_train = X_train.reshape(60000, 28, 28, 1)\n",
    "X_test = X_test.reshape(10000, 28, 28, 1)"
   ]
  },
  {
   "cell_type": "code",
   "execution_count": null,
   "metadata": {
    "colab": {
     "base_uri": "https://localhost:8080/",
     "height": 34
    },
    "colab_type": "code",
    "executionInfo": {
     "elapsed": 3418,
     "status": "ok",
     "timestamp": 1583863167349,
     "user": {
      "displayName": "CHANDAN PATRA",
      "photoUrl": "https://lh3.googleusercontent.com/a-/AOh14GgztnbuP6iBQWXWO8NjIu-vEwtwRh0udTE34fPm=s64",
      "userId": "08536261493125902972"
     },
     "user_tz": -330
    },
    "id": "IXWzl77d9Ey5",
    "outputId": "7c2a038b-a77f-4b94-d9d4-a5c7f1a4f4d4"
   },
   "outputs": [],
   "source": [
    "# One-Hot Encoding:\n",
    "y_train_one_hot = to_categorical(y_train)\n",
    "y_test_one_hot = to_categorical(y_test)\n",
    "\n",
    "# Print the new label\n",
    "print(y_train_one_hot[0])"
   ]
  },
  {
   "cell_type": "code",
   "execution_count": null,
   "metadata": {
    "colab": {
     "base_uri": "https://localhost:8080/",
     "height": 173
    },
    "colab_type": "code",
    "executionInfo": {
     "elapsed": 2654,
     "status": "ok",
     "timestamp": 1583863167351,
     "user": {
      "displayName": "CHANDAN PATRA",
      "photoUrl": "https://lh3.googleusercontent.com/a-/AOh14GgztnbuP6iBQWXWO8NjIu-vEwtwRh0udTE34fPm=s64",
      "userId": "08536261493125902972"
     },
     "user_tz": -330
    },
    "id": "KlfHakpJ-KUn",
    "outputId": "d1f2eaed-860d-4350-847e-8839578f0430"
   },
   "outputs": [],
   "source": [
    "# Build the CNN model\n",
    "model = Sequential()\n",
    "# Add model layers\n",
    "model.add(Conv2D(64, kernel_size=3, activation = 'relu', input_shape=(28,28,1)))\n",
    "model.add(Conv2D(32, kernel_size=3, activation='relu'))\n",
    "model.add(MaxPool2D(pool_size=(2, 2), strides=None, padding='valid', data_format=None))\n",
    "model.add(Flatten())\n",
    "model.add(Dense(10,activation='softmax'))"
   ]
  },
  {
   "cell_type": "code",
   "execution_count": null,
   "metadata": {
    "colab": {
     "base_uri": "https://localhost:8080/",
     "height": 105
    },
    "colab_type": "code",
    "executionInfo": {
     "elapsed": 3604,
     "status": "ok",
     "timestamp": 1583863169223,
     "user": {
      "displayName": "CHANDAN PATRA",
      "photoUrl": "https://lh3.googleusercontent.com/a-/AOh14GgztnbuP6iBQWXWO8NjIu-vEwtwRh0udTE34fPm=s64",
      "userId": "08536261493125902972"
     },
     "user_tz": -330
    },
    "id": "ORQrXRmk_wk8",
    "outputId": "228c4ef2-d486-4fc6-ffc3-6b587a60b520"
   },
   "outputs": [],
   "source": [
    "model.compile(optimizer='adam', loss='categorical_crossentropy', metrics=['accuracy'])"
   ]
  },
  {
   "cell_type": "code",
   "execution_count": null,
   "metadata": {
    "colab": {
     "base_uri": "https://localhost:8080/",
     "height": 717
    },
    "colab_type": "code",
    "executionInfo": {
     "elapsed": 196681,
     "status": "ok",
     "timestamp": 1583863363070,
     "user": {
      "displayName": "CHANDAN PATRA",
      "photoUrl": "https://lh3.googleusercontent.com/a-/AOh14GgztnbuP6iBQWXWO8NjIu-vEwtwRh0udTE34fPm=s64",
      "userId": "08536261493125902972"
     },
     "user_tz": -330
    },
    "id": "_8CFml2X_8GC",
    "outputId": "ce97e6b4-df06-4fc9-a87b-b7bf4b0e7756"
   },
   "outputs": [],
   "source": [
    "#Train the model\n",
    "hist = model.fit(X_train,y_train_one_hot, validation_data=(X_test,y_test_one_hot), epochs=10)"
   ]
  },
  {
   "cell_type": "code",
   "execution_count": null,
   "metadata": {
    "colab": {},
    "colab_type": "code",
    "id": "DAxGwNeAAesx"
   },
   "outputs": [],
   "source": []
  }
 ],
 "metadata": {
  "accelerator": "GPU",
  "colab": {
   "authorship_tag": "ABX9TyMyhvtAYIZIpDu3JU+XlN2p",
   "collapsed_sections": [],
   "name": "MNIST_Digit_Recognizer.ipynb",
   "provenance": []
  },
  "kernelspec": {
   "display_name": "Python 3 (ipykernel)",
   "language": "python",
   "name": "python3"
  },
  "language_info": {
   "codemirror_mode": {
    "name": "ipython",
    "version": 3
   },
   "file_extension": ".py",
   "mimetype": "text/x-python",
   "name": "python",
   "nbconvert_exporter": "python",
   "pygments_lexer": "ipython3",
   "version": "3.12.2"
  }
 },
 "nbformat": 4,
 "nbformat_minor": 4
}
