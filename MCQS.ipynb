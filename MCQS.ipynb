{
 "cells": [
  {
   "cell_type": "markdown",
   "id": "b0d944e5-66b4-4cfe-9f0d-3b2ac7b616f2",
   "metadata": {},
   "source": [
    "!python -m spacy download en_core_web_sm\n",
    "!pip install flashtext pywsd\n",
    "!pip install git+https://github.com/boudinfl/pke.git\n",
    "\n",
    "import nltk\n",
    "nltk.download('stopwords')\n",
    "nltk.download('punkt')\n",
    "nltk.download('popular')\n"
   ]
  },
  {
   "cell_type": "code",
   "execution_count": 1,
   "id": "eeaeba83-c6e1-4ae4-b67f-10bc4f5e6abc",
   "metadata": {},
   "outputs": [
    {
     "name": "stderr",
     "output_type": "stream",
     "text": [
      "Warming up PyWSD (takes ~10 secs)... took 4.874185800552368 secs.\n"
     ]
    }
   ],
   "source": [
    "import nltk\n",
    "import pke\n",
    "import string\n",
    "import random\n",
    "import requests\n",
    "from nltk.corpus import stopwords, wordnet as wn\n",
    "from nltk.tokenize import sent_tokenize\n",
    "from flashtext import KeywordProcessor\n",
    "from pywsd.similarity import max_similarity\n",
    "from pywsd.lesk import adapted_lesk\n",
    "from pywsd.lesk import cosine_lesk"
   ]
  },
  {
   "cell_type": "code",
   "execution_count": 2,
   "id": "de75b65f-b34f-4c3b-8706-63831ab9babe",
   "metadata": {},
   "outputs": [],
   "source": [
    "# Step 1: Importing the text file\n",
    "def read_text_file(file_path):\n",
    "    try:\n",
    "        with open(file_path, \"r\", encoding=\"utf-8\") as file:\n",
    "            return file.read()\n",
    "    except FileNotFoundError:\n",
    "        print(\"File not found!\")\n",
    "        return None\n"
   ]
  },
  {
   "cell_type": "code",
   "execution_count": 3,
   "id": "911bea5b-5260-4a44-824a-97cb209274e4",
   "metadata": {},
   "outputs": [],
   "source": [
    "# Step 2: Keyword Extraction\n",
    "def get_important_words(text):\n",
    "    extractor = pke.unsupervised.MultipartiteRank()\n",
    "    extractor.load_document(input=text, language='en')\n",
    "    pos = {'PROPN'}\n",
    "    stoplist = list(string.punctuation) + ['-lrb-', '-rrb-', '-lcb-', '-rcb-', '-lsb-', '-rsb-'] + stopwords.words('english')\n",
    "    extractor.candidate_selection(pos=pos, stoplist=stoplist)\n",
    "    extractor.candidate_weighting()\n",
    "    return [keyphrase[0] for keyphrase in extractor.get_n_best(n=25)]\n"
   ]
  },
  {
   "cell_type": "code",
   "execution_count": 4,
   "id": "f0ebb132-dc16-449a-9dd3-47c9e2747080",
   "metadata": {},
   "outputs": [],
   "source": [
    "# Step 3: Sentence Splitting\n",
    "def split_text_to_sentences(text):\n",
    "    return [sent.strip() for sent in sent_tokenize(text) if len(sent) > 15]"
   ]
  },
  {
   "cell_type": "code",
   "execution_count": 5,
   "id": "066cfafc-b4bf-4e30-9912-cca9a3fa5a30",
   "metadata": {},
   "outputs": [],
   "source": [
    "# Step 4: Mapping Sentences to Keywords\n",
    "def map_sentences_to_keywords(important_words, sentences):\n",
    "    keyword_processor = KeywordProcessor()\n",
    "    keyword_sentences = {word: [] for word in important_words}\n",
    "    for word in important_words:\n",
    "        keyword_processor.add_keyword(word)\n",
    "    for sentence in sentences:\n",
    "        for word in keyword_processor.extract_keywords(sentence):\n",
    "            keyword_sentences[word].append(sentence)\n",
    "    return keyword_sentences"
   ]
  },
  {
   "cell_type": "code",
   "execution_count": 6,
   "id": "758df006-aa6d-4ce6-a697-c9d7b669cb5e",
   "metadata": {},
   "outputs": [],
   "source": [
    "# Step 5: Getting Word Sense\n",
    "def get_word_sense(sentence, word):\n",
    "    word = word.lower()\n",
    "    if len(word.split()) > 0:\n",
    "        word = word.replace(\" \", \"_\")\n",
    "    synsets = wn.synsets(word, 'n')\n",
    "    if synsets:\n",
    "        wup = max_similarity(sentence, word, 'wup', pos='n')\n",
    "        adapted_lesk_output = adapted_lesk(sentence, word, pos='n')\n",
    "        lowest_index = min(synsets.index(wup), synsets.index(adapted_lesk_output))\n",
    "        return synsets[lowest_index]\n",
    "    else:\n",
    "        return None"
   ]
  },
  {
   "cell_type": "code",
   "execution_count": 7,
   "id": "c41fa65b-66be-4178-80c3-506356ab5761",
   "metadata": {},
   "outputs": [],
   "source": [
    "# Step 6: Getting Distractors from WordNet\n",
    "def get_wordnet_distractors(synset, word):\n",
    "    dists = []\n",
    "    hypernyms = synset.hypernyms()\n",
    "    if hypernyms:\n",
    "        for hyponym in hypernyms[0].hyponyms():\n",
    "            name = hyponym.lemmas()[0].name().replace(\"_\", \" \").capitalize()\n",
    "            if name != word.capitalize() and name not in dists:\n",
    "                dists.append(name)\n",
    "    return dists\n"
   ]
  },
  {
   "cell_type": "code",
   "execution_count": 8,
   "id": "ed30005b-884d-4a0d-b37c-8f6c8c82010e",
   "metadata": {},
   "outputs": [],
   "source": [
    "# Step 7: Getting Distractors from ConceptNet\n",
    "def get_conceptnet_distractors(word):\n",
    "    word = word.lower().replace(\" \", \"_\")\n",
    "    dists = []\n",
    "    url = f\"http://api.conceptnet.io/query?node=/c/en/{word}/n&rel=/r/PartOf&start=/c/en/{word}&limit=5\"\n",
    "    obj = requests.get(url).json()\n",
    "    for edge in obj['edges']:\n",
    "        link = edge['end']['term']\n",
    "        url2 = f\"http://api.conceptnet.io/query?node={link}&rel=/r/PartOf&end={link}&limit=10\"\n",
    "        obj2 = requests.get(url2).json()\n",
    "        for edge in obj2['edges']:\n",
    "            word2 = edge['start']['label']\n",
    "            if word2.lower() != word and word2 not in dists:\n",
    "                dists.append(word2)\n",
    "    return dists"
   ]
  },
  {
   "cell_type": "code",
   "execution_count": 9,
   "id": "b9355261-51ef-4850-ab3a-b270daa02de6",
   "metadata": {},
   "outputs": [],
   "source": [
    "# Step 8: Mapping Distractors to Keywords\n",
    "def map_distractors_to_keywords(important_words, keyword_sentences):\n",
    "    mapped_distractors = {}\n",
    "    for word in important_words:\n",
    "        word_sense = get_word_sense(keyword_sentences[word][0], word)\n",
    "        if word_sense:\n",
    "            distractors = get_wordnet_distractors(word_sense, word)\n",
    "            if not distractors:\n",
    "                distractors = get_conceptnet_distractors(word)\n",
    "            if distractors:\n",
    "                mapped_distractors[word] = distractors\n",
    "    return mapped_distractors\n"
   ]
  },
  {
   "cell_type": "code",
   "execution_count": 10,
   "id": "7243786a-ba05-496a-aa0a-b27df3490c5e",
   "metadata": {},
   "outputs": [
    {
     "ename": "TypeError",
     "evalue": "TopicRank.candidate_selection() got an unexpected keyword argument 'stoplist'",
     "output_type": "error",
     "traceback": [
      "\u001b[1;31m---------------------------------------------------------------------------\u001b[0m",
      "\u001b[1;31mTypeError\u001b[0m                                 Traceback (most recent call last)",
      "Cell \u001b[1;32mIn[10], line 22\u001b[0m\n\u001b[0;32m     20\u001b[0m text \u001b[38;5;241m=\u001b[39m read_text_file(file_path)\n\u001b[0;32m     21\u001b[0m \u001b[38;5;28;01mif\u001b[39;00m text:\n\u001b[1;32m---> 22\u001b[0m     important_words \u001b[38;5;241m=\u001b[39m \u001b[43mget_important_words\u001b[49m\u001b[43m(\u001b[49m\u001b[43mtext\u001b[49m\u001b[43m)\u001b[49m\n\u001b[0;32m     23\u001b[0m     sentences \u001b[38;5;241m=\u001b[39m split_text_to_sentences(text)\n\u001b[0;32m     24\u001b[0m     mapped_sentences \u001b[38;5;241m=\u001b[39m map_sentences_to_keywords(important_words, sentences)\n",
      "Cell \u001b[1;32mIn[3], line 7\u001b[0m, in \u001b[0;36mget_important_words\u001b[1;34m(text)\u001b[0m\n\u001b[0;32m      5\u001b[0m pos \u001b[38;5;241m=\u001b[39m {\u001b[38;5;124m'\u001b[39m\u001b[38;5;124mPROPN\u001b[39m\u001b[38;5;124m'\u001b[39m}\n\u001b[0;32m      6\u001b[0m stoplist \u001b[38;5;241m=\u001b[39m \u001b[38;5;28mlist\u001b[39m(string\u001b[38;5;241m.\u001b[39mpunctuation) \u001b[38;5;241m+\u001b[39m [\u001b[38;5;124m'\u001b[39m\u001b[38;5;124m-lrb-\u001b[39m\u001b[38;5;124m'\u001b[39m, \u001b[38;5;124m'\u001b[39m\u001b[38;5;124m-rrb-\u001b[39m\u001b[38;5;124m'\u001b[39m, \u001b[38;5;124m'\u001b[39m\u001b[38;5;124m-lcb-\u001b[39m\u001b[38;5;124m'\u001b[39m, \u001b[38;5;124m'\u001b[39m\u001b[38;5;124m-rcb-\u001b[39m\u001b[38;5;124m'\u001b[39m, \u001b[38;5;124m'\u001b[39m\u001b[38;5;124m-lsb-\u001b[39m\u001b[38;5;124m'\u001b[39m, \u001b[38;5;124m'\u001b[39m\u001b[38;5;124m-rsb-\u001b[39m\u001b[38;5;124m'\u001b[39m] \u001b[38;5;241m+\u001b[39m stopwords\u001b[38;5;241m.\u001b[39mwords(\u001b[38;5;124m'\u001b[39m\u001b[38;5;124menglish\u001b[39m\u001b[38;5;124m'\u001b[39m)\n\u001b[1;32m----> 7\u001b[0m \u001b[43mextractor\u001b[49m\u001b[38;5;241;43m.\u001b[39;49m\u001b[43mcandidate_selection\u001b[49m\u001b[43m(\u001b[49m\u001b[43mpos\u001b[49m\u001b[38;5;241;43m=\u001b[39;49m\u001b[43mpos\u001b[49m\u001b[43m,\u001b[49m\u001b[43m \u001b[49m\u001b[43mstoplist\u001b[49m\u001b[38;5;241;43m=\u001b[39;49m\u001b[43mstoplist\u001b[49m\u001b[43m)\u001b[49m\n\u001b[0;32m      8\u001b[0m extractor\u001b[38;5;241m.\u001b[39mcandidate_weighting()\n\u001b[0;32m      9\u001b[0m \u001b[38;5;28;01mreturn\u001b[39;00m [keyphrase[\u001b[38;5;241m0\u001b[39m] \u001b[38;5;28;01mfor\u001b[39;00m keyphrase \u001b[38;5;129;01min\u001b[39;00m extractor\u001b[38;5;241m.\u001b[39mget_n_best(n\u001b[38;5;241m=\u001b[39m\u001b[38;5;241m25\u001b[39m)]\n",
      "\u001b[1;31mTypeError\u001b[0m: TopicRank.candidate_selection() got an unexpected keyword argument 'stoplist'"
     ]
    }
   ],
   "source": [
    "# Step 9: Formatting MCQs\n",
    "def generate_mcqs(mapped_sentences, mapped_distractors):\n",
    "    print(\"************************************** Multiple Choice Questions **************************************\\n\")\n",
    "    iterator = 1\n",
    "    for word, sentences in mapped_sentences.items():\n",
    "        sentence = sentences[0]\n",
    "        question_pattern = re.compile(word, re.IGNORECASE)\n",
    "        question = question_pattern.sub(\"________\", sentence)\n",
    "        print(f\"Question {iterator} -> {question}\\n\")\n",
    "        options = [word.capitalize()] + mapped_distractors[word]\n",
    "        options = random.sample(options, min(4, len(options)))\n",
    "        random.shuffle(options)\n",
    "        for idx, option in enumerate(options):\n",
    "            print(f\"\\t({chr(97 + idx)}) {option}\")\n",
    "        print()\n",
    "        iterator += 1\n",
    "\n",
    "if __name__ == \"__main__\":\n",
    "    file_path = \"article.txt\"\n",
    "    text = read_text_file(file_path)\n",
    "    if text:\n",
    "        important_words = get_important_words(text)\n",
    "        sentences = split_text_to_sentences(text)\n",
    "        mapped_sentences = map_sentences_to_keywords(important_words, sentences)\n",
    "        mapped_distractors = map_distractors_to_keywords(important_words, mapped_sentences)\n",
    "        generate_mcqs(mapped_sentences, mapped_distractors)"
   ]
  },
  {
   "cell_type": "code",
   "execution_count": null,
   "id": "70617781-185a-4c0f-aec4-621e76fd9022",
   "metadata": {},
   "outputs": [],
   "source": []
  }
 ],
 "metadata": {
  "kernelspec": {
   "display_name": "Python 3 (ipykernel)",
   "language": "python",
   "name": "python3"
  },
  "language_info": {
   "codemirror_mode": {
    "name": "ipython",
    "version": 3
   },
   "file_extension": ".py",
   "mimetype": "text/x-python",
   "name": "python",
   "nbconvert_exporter": "python",
   "pygments_lexer": "ipython3",
   "version": "3.12.2"
  }
 },
 "nbformat": 4,
 "nbformat_minor": 5
}
