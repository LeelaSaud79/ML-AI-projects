{
 "cells": [
  {
   "cell_type": "code",
   "execution_count": 14,
   "id": "e9a89df9-aa56-4078-a98f-30d95bd5cf47",
   "metadata": {},
   "outputs": [
    {
     "name": "stderr",
     "output_type": "stream",
     "text": [
      "Data-loss while decompressing corrupted data\n",
      "Data-loss while decompressing corrupted data\n",
      "Data-loss while decompressing corrupted data\n",
      "Data-loss while decompressing corrupted data\n",
      "Data-loss while decompressing corrupted data\n",
      "Data-loss while decompressing corrupted data\n",
      "Data-loss while decompressing corrupted data\n",
      "Data-loss while decompressing corrupted data\n"
     ]
    }
   ],
   "source": [
    "import pdfplumber\n",
    "import re\n",
    "import pandas as pd\n",
    "\n",
    "# Function to extract text from PDF using pdfplumber\n",
    "def extract_text_from_pdf(pdf_path):\n",
    "    text = \"\"\n",
    "    with pdfplumber.open(pdf_path) as pdf:\n",
    "        for page in pdf.pages:\n",
    "            text += page.extract_text()\n",
    "    return text\n",
    "\n",
    "# Function to parse extracted text and format data\n",
    "def parse_school_data(text):\n",
    "    pattern = re.compile(\n",
    "        # r\"(?P<school_name>[A-Z][A-Za-z\\s@]+(?:School|Academy|Showalter).+?)\\s+Principal\\s+\"\n",
    "        # r\"(?P<address>\\d+ .+? Street)\\s+\"\n",
    "        r\"(?P<principal>.+?) \\| email: (?P<principal_email>\\S+)\\s+\"\n",
    "        # r\"(?P<city_state_zip>.+?)\\s+(Assistant Principals?|Assistant Principal)\\s+\"\n",
    "        # r\"(?P<phone>\\(\\d{3}\\) \\d{3}-\\d{4}) \\| fax \\(\\d{3}\\) \\d{3}-\\d{4}\\s+\"\n",
    "        # r\"(?P<assistants>(?:.+? \\| email: \\S+\\s*)+)\"\n",
    "    )\n",
    "\n",
    "    matches = pattern.finditer(text)\n",
    "    schools = []\n",
    "\n",
    "    for match in matches:\n",
    "        school_info = match.groupdict()\n",
    "        assistants_raw = school_info.pop('assistants').strip().split('\\n')\n",
    "        assistants = []\n",
    "        for assistant in assistants_raw:\n",
    "            name_email = assistant.split('| email:')\n",
    "            if len(name_email) == 2:\n",
    "                name, email = name_email\n",
    "                assistants.append({'name': name.strip(), 'email': email.strip()})\n",
    "        \n",
    "        school_info['assistants'] = assistants\n",
    "        schools.append(school_info)\n",
    "    \n",
    "    return schools\n",
    "\n",
    "# Function to save data to Excel\n",
    "def save_to_excel(schools, output_path):\n",
    "    rows = []\n",
    "    for school in schools:\n",
    "        for assistant in school['assistants']:\n",
    "            rows.append({\n",
    "                # 'School Name': school['school_name'],\n",
    "                # 'Principal': school['principal'],\n",
    "                'Principal Email': school['principal_email'],\n",
    "                # 'Address': school['address'],\n",
    "                # 'City/State/Zip': school['city_state_zip'],\n",
    "                # 'Phone': school['phone'],\n",
    "                # 'Assistant Name': assistant['name'],\n",
    "                'Assistant Email': assistant['email'],\n",
    "            })\n",
    "    \n",
    "    df = pd.DataFrame(rows)\n",
    "    df.to_excel(output_path, index=False)\n",
    "\n",
    "# Main function to read PDF, extract and format data, and save to Excel\n",
    "def main(pdf_path, output_path):\n",
    "    text = extract_text_from_pdf(pdf_path)\n",
    "    schools = parse_school_data(text)\n",
    "    save_to_excel(schools, output_path)\n",
    "\n",
    "# Path to the PDF file and output Excel file\n",
    "pdf_path = 'saturday.pdf'\n",
    "output_path = 'saturday.xlsx'\n",
    "\n",
    "# Run the main function\n",
    "if __name__ == \"__main__\":\n",
    "    main(pdf_path, output_path)\n"
   ]
  },
  {
   "cell_type": "code",
   "execution_count": 6,
   "id": "29c46448-1ef5-412d-89c4-6927039a2501",
   "metadata": {},
   "outputs": [
    {
     "name": "stdout",
     "output_type": "stream",
     "text": [
      "Collecting PyMuPDF\n",
      "  Downloading PyMuPDF-1.24.4-cp312-none-win_amd64.whl.metadata (3.4 kB)\n",
      "Collecting PyMuPDFb==1.24.3 (from PyMuPDF)\n",
      "  Downloading PyMuPDFb-1.24.3-py3-none-win_amd64.whl.metadata (1.4 kB)\n",
      "Downloading PyMuPDF-1.24.4-cp312-none-win_amd64.whl (3.2 MB)\n",
      "   ---------------------------------------- 0.0/3.2 MB ? eta -:--:--\n",
      "   ---------------------------------------- 0.0/3.2 MB 330.3 kB/s eta 0:00:10\n",
      "   ---------------------------------------- 0.0/3.2 MB 330.3 kB/s eta 0:00:10\n",
      "    --------------------------------------- 0.1/3.2 MB 469.7 kB/s eta 0:00:07\n",
      "   - -------------------------------------- 0.1/3.2 MB 595.3 kB/s eta 0:00:06\n",
      "   -- ------------------------------------- 0.2/3.2 MB 748.1 kB/s eta 0:00:05\n",
      "   --- ------------------------------------ 0.3/3.2 MB 1.0 MB/s eta 0:00:03\n",
      "   ----- ---------------------------------- 0.4/3.2 MB 1.3 MB/s eta 0:00:03\n",
      "   ------- -------------------------------- 0.6/3.2 MB 1.7 MB/s eta 0:00:02\n",
      "   ----------- ---------------------------- 0.9/3.2 MB 2.2 MB/s eta 0:00:02\n",
      "   -------------- ------------------------- 1.2/3.2 MB 2.6 MB/s eta 0:00:01\n",
      "   ------------------------ --------------- 2.0/3.2 MB 4.0 MB/s eta 0:00:01\n",
      "   ---------------------------- ----------- 2.3/3.2 MB 4.1 MB/s eta 0:00:01\n",
      "   ---------------------------------------- 3.2/3.2 MB 5.4 MB/s eta 0:00:00\n",
      "Downloading PyMuPDFb-1.24.3-py3-none-win_amd64.whl (12.4 MB)\n",
      "   ---------------------------------------- 0.0/12.4 MB ? eta -:--:--\n",
      "   -- ------------------------------------- 0.9/12.4 MB 19.4 MB/s eta 0:00:01\n",
      "   ----- ---------------------------------- 1.8/12.4 MB 28.0 MB/s eta 0:00:01\n",
      "   ----- ---------------------------------- 1.8/12.4 MB 28.0 MB/s eta 0:00:01\n",
      "   ----- ---------------------------------- 1.8/12.4 MB 28.0 MB/s eta 0:00:01\n",
      "   ---------------- ----------------------- 5.2/12.4 MB 22.3 MB/s eta 0:00:01\n",
      "   ------------------- -------------------- 6.0/12.4 MB 23.8 MB/s eta 0:00:01\n",
      "   ---------------------- ----------------- 7.0/12.4 MB 21.3 MB/s eta 0:00:01\n",
      "   -------------------------- ------------- 8.3/12.4 MB 22.0 MB/s eta 0:00:01\n",
      "   ----------------------------- ---------- 9.3/12.4 MB 22.0 MB/s eta 0:00:01\n",
      "   ---------------------------------- ----- 10.6/12.4 MB 23.4 MB/s eta 0:00:01\n",
      "   ---------------------------------------  12.1/12.4 MB 34.6 MB/s eta 0:00:01\n",
      "   ---------------------------------------- 12.4/12.4 MB 29.8 MB/s eta 0:00:00\n",
      "Installing collected packages: PyMuPDFb, PyMuPDF\n",
      "Successfully installed PyMuPDF-1.24.4 PyMuPDFb-1.24.3\n"
     ]
    }
   ],
   "source": [
    "!pip install PyMuPDF\n"
   ]
  },
  {
   "cell_type": "code",
   "execution_count": 9,
   "id": "5a043fd2-ac89-4c1b-80bd-8123d9f093f0",
   "metadata": {},
   "outputs": [
    {
     "name": "stdout",
     "output_type": "stream",
     "text": [
      "Requirement already satisfied: pdfplumber in c:\\users\\dell\\onedrive\\desktop\\module2\\myenv\\lib\\site-packages (0.11.0)\n",
      "Requirement already satisfied: pandas in c:\\users\\dell\\onedrive\\desktop\\module2\\myenv\\lib\\site-packages (2.2.1)\n",
      "Requirement already satisfied: openpyxl in c:\\users\\dell\\onedrive\\desktop\\module2\\myenv\\lib\\site-packages (3.1.2)\n",
      "Requirement already satisfied: pdfminer.six==20231228 in c:\\users\\dell\\onedrive\\desktop\\module2\\myenv\\lib\\site-packages (from pdfplumber) (20231228)\n",
      "Requirement already satisfied: Pillow>=9.1 in c:\\users\\dell\\onedrive\\desktop\\module2\\myenv\\lib\\site-packages (from pdfplumber) (10.2.0)\n",
      "Requirement already satisfied: pypdfium2>=4.18.0 in c:\\users\\dell\\onedrive\\desktop\\module2\\myenv\\lib\\site-packages (from pdfplumber) (4.30.0)\n",
      "Requirement already satisfied: charset-normalizer>=2.0.0 in c:\\users\\dell\\onedrive\\desktop\\module2\\myenv\\lib\\site-packages (from pdfminer.six==20231228->pdfplumber) (3.3.2)\n",
      "Requirement already satisfied: cryptography>=36.0.0 in c:\\users\\dell\\onedrive\\desktop\\module2\\myenv\\lib\\site-packages (from pdfminer.six==20231228->pdfplumber) (42.0.7)\n",
      "Requirement already satisfied: numpy<2,>=1.26.0 in c:\\users\\dell\\onedrive\\desktop\\module2\\myenv\\lib\\site-packages (from pandas) (1.26.4)\n",
      "Requirement already satisfied: python-dateutil>=2.8.2 in c:\\users\\dell\\onedrive\\desktop\\module2\\myenv\\lib\\site-packages (from pandas) (2.9.0.post0)\n",
      "Requirement already satisfied: pytz>=2020.1 in c:\\users\\dell\\onedrive\\desktop\\module2\\myenv\\lib\\site-packages (from pandas) (2024.1)\n",
      "Requirement already satisfied: tzdata>=2022.7 in c:\\users\\dell\\onedrive\\desktop\\module2\\myenv\\lib\\site-packages (from pandas) (2024.1)\n",
      "Requirement already satisfied: et-xmlfile in c:\\users\\dell\\onedrive\\desktop\\module2\\myenv\\lib\\site-packages (from openpyxl) (1.1.0)\n",
      "Requirement already satisfied: six>=1.5 in c:\\users\\dell\\onedrive\\desktop\\module2\\myenv\\lib\\site-packages (from python-dateutil>=2.8.2->pandas) (1.16.0)\n",
      "Requirement already satisfied: cffi>=1.12 in c:\\users\\dell\\onedrive\\desktop\\module2\\myenv\\lib\\site-packages (from cryptography>=36.0.0->pdfminer.six==20231228->pdfplumber) (1.16.0)\n",
      "Requirement already satisfied: pycparser in c:\\users\\dell\\onedrive\\desktop\\module2\\myenv\\lib\\site-packages (from cffi>=1.12->cryptography>=36.0.0->pdfminer.six==20231228->pdfplumber) (2.21)\n"
     ]
    }
   ],
   "source": [
    "!pip install pdfplumber pandas openpyxl\n"
   ]
  },
  {
   "cell_type": "code",
   "execution_count": 10,
   "id": "9377920e-7e0c-43f3-9851-30bb96a8dbdf",
   "metadata": {},
   "outputs": [
    {
     "name": "stdout",
     "output_type": "stream",
     "text": [
      "Requirement already satisfied: pdfplumber in c:\\users\\dell\\onedrive\\desktop\\module2\\myenv\\lib\\site-packages (0.11.0)\n",
      "Requirement already satisfied: pandas in c:\\users\\dell\\onedrive\\desktop\\module2\\myenv\\lib\\site-packages (2.2.1)\n",
      "Requirement already satisfied: openpyxl in c:\\users\\dell\\onedrive\\desktop\\module2\\myenv\\lib\\site-packages (3.1.2)\n",
      "Requirement already satisfied: pdfminer.six==20231228 in c:\\users\\dell\\onedrive\\desktop\\module2\\myenv\\lib\\site-packages (from pdfplumber) (20231228)\n",
      "Requirement already satisfied: Pillow>=9.1 in c:\\users\\dell\\onedrive\\desktop\\module2\\myenv\\lib\\site-packages (from pdfplumber) (10.2.0)\n",
      "Requirement already satisfied: pypdfium2>=4.18.0 in c:\\users\\dell\\onedrive\\desktop\\module2\\myenv\\lib\\site-packages (from pdfplumber) (4.30.0)\n",
      "Requirement already satisfied: charset-normalizer>=2.0.0 in c:\\users\\dell\\onedrive\\desktop\\module2\\myenv\\lib\\site-packages (from pdfminer.six==20231228->pdfplumber) (3.3.2)\n",
      "Requirement already satisfied: cryptography>=36.0.0 in c:\\users\\dell\\onedrive\\desktop\\module2\\myenv\\lib\\site-packages (from pdfminer.six==20231228->pdfplumber) (42.0.7)\n",
      "Requirement already satisfied: numpy<2,>=1.26.0 in c:\\users\\dell\\onedrive\\desktop\\module2\\myenv\\lib\\site-packages (from pandas) (1.26.4)\n",
      "Requirement already satisfied: python-dateutil>=2.8.2 in c:\\users\\dell\\onedrive\\desktop\\module2\\myenv\\lib\\site-packages (from pandas) (2.9.0.post0)\n",
      "Requirement already satisfied: pytz>=2020.1 in c:\\users\\dell\\onedrive\\desktop\\module2\\myenv\\lib\\site-packages (from pandas) (2024.1)\n",
      "Requirement already satisfied: tzdata>=2022.7 in c:\\users\\dell\\onedrive\\desktop\\module2\\myenv\\lib\\site-packages (from pandas) (2024.1)\n",
      "Requirement already satisfied: et-xmlfile in c:\\users\\dell\\onedrive\\desktop\\module2\\myenv\\lib\\site-packages (from openpyxl) (1.1.0)\n",
      "Requirement already satisfied: six>=1.5 in c:\\users\\dell\\onedrive\\desktop\\module2\\myenv\\lib\\site-packages (from python-dateutil>=2.8.2->pandas) (1.16.0)\n",
      "Requirement already satisfied: cffi>=1.12 in c:\\users\\dell\\onedrive\\desktop\\module2\\myenv\\lib\\site-packages (from cryptography>=36.0.0->pdfminer.six==20231228->pdfplumber) (1.16.0)\n",
      "Requirement already satisfied: pycparser in c:\\users\\dell\\onedrive\\desktop\\module2\\myenv\\lib\\site-packages (from cffi>=1.12->cryptography>=36.0.0->pdfminer.six==20231228->pdfplumber) (2.21)\n"
     ]
    }
   ],
   "source": [
    "!pip install pdfplumber pandas openpyxl\n"
   ]
  },
  {
   "cell_type": "code",
   "execution_count": null,
   "id": "ecfadb73-4fdc-4f3e-ac81-bfc67f2da97d",
   "metadata": {},
   "outputs": [],
   "source": []
  }
 ],
 "metadata": {
  "kernelspec": {
   "display_name": "Python 3 (ipykernel)",
   "language": "python",
   "name": "python3"
  },
  "language_info": {
   "codemirror_mode": {
    "name": "ipython",
    "version": 3
   },
   "file_extension": ".py",
   "mimetype": "text/x-python",
   "name": "python",
   "nbconvert_exporter": "python",
   "pygments_lexer": "ipython3",
   "version": "3.12.2"
  }
 },
 "nbformat": 4,
 "nbformat_minor": 5
}
