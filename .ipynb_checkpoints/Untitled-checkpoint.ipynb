{
 "cells": [
  {
   "cell_type": "code",
   "execution_count": null,
   "id": "758d1a16-ae9d-42dd-b2e3-465d33bd1d53",
   "metadata": {},
   "outputs": [],
   "source": [
    "import pdfplumber\n",
    "import re\n",
    "import pandas as pd\n",
    "\n",
    "def sanitize_text(text):\n",
    "    illegal_char_pattern = r'[\\000-\\010]|[\\013-\\014]|[\\016-\\037]'\n",
    "    sanitized_text = re.sub(illegal_char_pattern, '', text)\n",
    "    return sanitized_text\n",
    "\n",
    "def extract_info_from_pdf(pdf_path):\n",
    "    principal_pattern = r\"Principal:\\s*(.+)\"\n",
    "    email_pattern = r\"E-mail:\\s*(\\S+)\"\n",
    "    grade_span_pattern = r\"Grade Span:\\s*(.+)\"\n",
    "\n",
    "    all_data = []\n",
    "\n",
    "    with pdfplumber.open(pdf_path) as pdf:\n",
    "        for page in pdf.pages:\n",
    "            text = page.extract_text()\n",
    "            sanitized_text = sanitize_text(text)\n",
    "\n",
    "            principal_match = re.search(principal_pattern, sanitized_text)\n",
    "            if principal_match:\n",
    "                principal_name = principal_match.group(1)\n",
    "            else:\n",
    "                principal_name = \"Not found\"\n",
    "\n",
    "            email_match = re.search(email_pattern, sanitized_text)\n",
    "            if email_match:\n",
    "                email = email_match.group(1)\n",
    "            else:\n",
    "                email = \"Not found\"\n",
    "\n",
    "            grade_span_match = re.search(grade_span_pattern, sanitized_text)\n",
    "            if grade_span_match:\n",
    "                grade_span = grade_span_match.group(1)\n",
    "            else:\n",
    "                grade_span = \"Not found\"\n",
    "\n",
    "            all_data.append({'Principal': principal_name, 'Email': email, 'Grade Span': grade_span})\n",
    "\n",
    "    return all_data\n",
    "\n",
    "pdf_path = \"school.pdf\"\n",
    "all_info = extract_info_from_pdf(pdf_path)\n",
    "\n",
    "df = pd.DataFrame(all_info)\n",
    "\n",
    "excel_file_path = \"final-list.xlsx\"\n",
    "df.to_excel(excel_file_path, index=False)\n",
    "\n",
    "print(\"Data saved to:\", excel_file_path)\n"
   ]
  }
 ],
 "metadata": {
  "kernelspec": {
   "display_name": "Python 3 (ipykernel)",
   "language": "python",
   "name": "python3"
  },
  "language_info": {
   "codemirror_mode": {
    "name": "ipython",
    "version": 3
   },
   "file_extension": ".py",
   "mimetype": "text/x-python",
   "name": "python",
   "nbconvert_exporter": "python",
   "pygments_lexer": "ipython3",
   "version": "3.12.2"
  }
 },
 "nbformat": 4,
 "nbformat_minor": 5
}
