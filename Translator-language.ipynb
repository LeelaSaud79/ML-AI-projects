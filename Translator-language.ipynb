{
 "cells": [
  {
   "cell_type": "markdown",
   "id": "fccdee6c-1282-4ae1-b348-165eecfc446b",
   "metadata": {},
   "source": [
    "kinter-This library will help us in creating a GUI window for our app.\n",
    "\n",
    "googletrans-The googletrans library is used for language translation.\n",
    "\n",
    "textblob-The textblob library is used for text processing and translation.\n",
    "\n",
    "!pip install textblob\n",
    "!pip install googletrans==4.0.0-rc1\n"
   ]
  },
  {
   "cell_type": "code",
   "execution_count": 4,
   "id": "83612e1c-abc0-4762-87d6-edc999bba832",
   "metadata": {},
   "outputs": [
    {
     "name": "stdout",
     "output_type": "stream",
     "text": [
      "Collecting textblob\n",
      "  Using cached textblob-0.18.0.post0-py3-none-any.whl.metadata (4.5 kB)\n",
      "Requirement already satisfied: nltk>=3.8 in c:\\users\\dell\\onedrive\\desktop\\module2\\myenv\\lib\\site-packages (from textblob) (3.8.1)\n",
      "Requirement already satisfied: click in c:\\users\\dell\\onedrive\\desktop\\module2\\myenv\\lib\\site-packages (from nltk>=3.8->textblob) (8.1.7)\n",
      "Requirement already satisfied: joblib in c:\\users\\dell\\onedrive\\desktop\\module2\\myenv\\lib\\site-packages (from nltk>=3.8->textblob) (1.3.2)\n",
      "Requirement already satisfied: regex>=2021.8.3 in c:\\users\\dell\\onedrive\\desktop\\module2\\myenv\\lib\\site-packages (from nltk>=3.8->textblob) (2023.12.25)\n",
      "Requirement already satisfied: tqdm in c:\\users\\dell\\onedrive\\desktop\\module2\\myenv\\lib\\site-packages (from nltk>=3.8->textblob) (4.66.2)\n",
      "Requirement already satisfied: colorama in c:\\users\\dell\\onedrive\\desktop\\module2\\myenv\\lib\\site-packages (from click->nltk>=3.8->textblob) (0.4.6)\n",
      "Using cached textblob-0.18.0.post0-py3-none-any.whl (626 kB)\n",
      "Installing collected packages: textblob\n",
      "Successfully installed textblob-0.18.0.post0\n"
     ]
    }
   ],
   "source": [
    "!pip install textblob"
   ]
  },
  {
   "cell_type": "code",
   "execution_count": 5,
   "id": "93a39ae4-3de9-4562-9944-09ebd19b06f6",
   "metadata": {},
   "outputs": [],
   "source": [
    "from tkinter import *\n",
    "from tkinter import ttk, messagebox\n",
    "from googletrans import Translator\n",
    "import textblob"
   ]
  },
  {
   "cell_type": "code",
   "execution_count": 6,
   "id": "bd120a3b-6e9e-44fb-98cc-a94b3c4d6042",
   "metadata": {},
   "outputs": [],
   "source": [
    "# Define a dictionary mapping language names to language codes\n",
    "languages = {\n",
    "    'English': 'en',\n",
    "    'Nepali': 'ne',\n",
    "    'Indian': 'hi',\n",
    "    'Spanish': 'es',\n",
    "    'French': 'fr',\n",
    "    'German': 'de',\n",
    "    'Chinese': 'zh-CN',\n",
    "    'Japanese': 'ja',\n",
    "    'Russian': 'ru',\n",
    "    'Arabic': 'ar'\n",
    "}"
   ]
  },
  {
   "cell_type": "code",
   "execution_count": 7,
   "id": "ce69a107-f9e0-4f55-95a2-ec811f6de16e",
   "metadata": {},
   "outputs": [],
   "source": [
    "def trans_late():\n",
    "    txt2.delete(1.0, END)\n",
    "    try:\n",
    "        from_language_key = languages.get(c1.get().strip())\n",
    "        to_language_key = languages.get(c2.get().strip())\n",
    "\n",
    "        print(\"From language:\", c1.get())\n",
    "        print(\"To language:\", c2.get())\n",
    "\n",
    "        if from_language_key is None or to_language_key is None:\n",
    "            messagebox.showerror(\"Translater\", \"Invalid language selection\")\n",
    "            return\n",
    "\n",
    "        # Get the text from txt1\n",
    "        input_text = txt1.get(1.0, END)\n",
    "\n",
    "        # Translate the text\n",
    "        translator = Translator()\n",
    "        translated_text = translator.translate(input_text, src=from_language_key, dest=to_language_key)\n",
    "\n",
    "        # Insert the translated text into txt2\n",
    "        txt2.insert(1.0, translated_text.text)\n",
    "\n",
    "    except Exception as e:\n",
    "        messagebox.showerror(\"Translater\", e)"
   ]
  },
  {
   "cell_type": "code",
   "execution_count": 8,
   "id": "1aeb3799-3a80-4c8c-b83d-6e54199631ee",
   "metadata": {},
   "outputs": [],
   "source": [
    "# GUI setup\n",
    "root = Tk()\n",
    "root.geometry(\"700x400\")\n",
    "root.title(\"Language Translator\")\n",
    "root.config(bg='#D3D3D3')\n"
   ]
  },
  {
   "cell_type": "code",
   "execution_count": 9,
   "id": "dd8c999f-b3de-4d2e-8566-42a1e39f28df",
   "metadata": {},
   "outputs": [],
   "source": [
    "# Labels and frames\n",
    "Label(root, text=\"Language Translator\", font=('Arial,bold', 20), bg='#8B8B7A', fg='White', width=50, pady=5).pack(pady=10)\n",
    "\n",
    "f1 = Frame(root, width=320, height=200, bg='white', bd=5)\n",
    "f1.place(x=15, y=70)\n",
    "f2 = Frame(root, width=320, height=200, bg='white', bd=5)\n",
    "f2.place(x=360, y=70)"
   ]
  },
  {
   "cell_type": "code",
   "execution_count": 10,
   "id": "45a60351-0eca-47af-b11f-b2a7ec7cf6bc",
   "metadata": {},
   "outputs": [],
   "source": [
    "# List of languages\n",
    "language_list = ['English', 'Nepali', 'Indian', 'Spanish', 'French', 'German', 'Chinese', 'Japanese', 'Russian', 'Arabic']"
   ]
  },
  {
   "cell_type": "code",
   "execution_count": 11,
   "id": "83d21ddf-17bb-4b5e-b04f-9fb46956b778",
   "metadata": {},
   "outputs": [
    {
     "name": "stdout",
     "output_type": "stream",
     "text": [
      "From language: English\n",
      "To language: Nepali\n"
     ]
    }
   ],
   "source": [
    "# Text widgets, Comboboxes, and Button\n",
    "txt1 = Text(f1, font=('Arial,bold'), width=28, height=8)\n",
    "txt1.place(x=0, y=0)\n",
    "txt2 = Text(f2, font=('Arial,bold'), width=28, height=8)\n",
    "txt2.place(x=0, y=0)\n",
    "\n",
    "c1 = ttk.Combobox(root, values=language_list, font=('Arial,bold', 12), width=20)\n",
    "c1.place(x=60, y=290)\n",
    "c2 = ttk.Combobox(root, values=language_list, font=('Arial,bold', 12), width=20)\n",
    "c2.place(x=420, y=290)\n",
    "\n",
    "btn = Button(root, text=\"Translate\", font=('Arial,bold', 15), bd=5, bg='#8B8B7A', fg='White', command=trans_late)\n",
    "btn.place(x=290, y=320)\n",
    "\n",
    "root.mainloop()"
   ]
  },
  {
   "cell_type": "code",
   "execution_count": 12,
   "id": "49c7edf4-660f-451d-81ec-e05e0b276bfe",
   "metadata": {},
   "outputs": [
    {
     "name": "stdout",
     "output_type": "stream",
     "text": [
      "hello\n"
     ]
    }
   ],
   "source": [
    "from googletrans import Translator\n",
    "translator = Translator()\n",
    "out = translator.translate(\"नमस्ते\", dest=\"en\")\n",
    "print(out.text)"
   ]
  },
  {
   "cell_type": "code",
   "execution_count": null,
   "id": "13fc0abd-e2e3-44a3-8aaf-313c86249800",
   "metadata": {},
   "outputs": [],
   "source": []
  },
  {
   "cell_type": "code",
   "execution_count": null,
   "id": "a40605cc-3324-4653-9e9b-a33f2639bcb2",
   "metadata": {},
   "outputs": [],
   "source": []
  }
 ],
 "metadata": {
  "kernelspec": {
   "display_name": "Python 3 (ipykernel)",
   "language": "python",
   "name": "python3"
  },
  "language_info": {
   "codemirror_mode": {
    "name": "ipython",
    "version": 3
   },
   "file_extension": ".py",
   "mimetype": "text/x-python",
   "name": "python",
   "nbconvert_exporter": "python",
   "pygments_lexer": "ipython3",
   "version": "3.12.2"
  }
 },
 "nbformat": 4,
 "nbformat_minor": 5
}
