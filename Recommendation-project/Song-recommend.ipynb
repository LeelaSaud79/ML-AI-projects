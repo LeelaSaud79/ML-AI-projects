{
 "cells": [
  {
   "cell_type": "code",
   "execution_count": 1,
   "id": "1eefe10d-726d-411f-b9a0-f3797ab42206",
   "metadata": {},
   "outputs": [],
   "source": [
    "import pandas as pd\n",
    "from sklearn.feature_extraction.text import CountVectorizer\n",
    "from sklearn.metrics.pairwise import cosine_similarity\n"
   ]
  },
  {
   "cell_type": "code",
   "execution_count": 2,
   "id": "013c647b-047d-4184-b7ce-60afaee2b2cf",
   "metadata": {},
   "outputs": [],
   "source": [
    "data = pd.read_csv('song-dataset.csv', low_memory=False)"
   ]
  },
  {
   "cell_type": "code",
   "execution_count": 3,
   "id": "253db92b-e028-4549-8d1f-20586b6c1f14",
   "metadata": {},
   "outputs": [
    {
     "data": {
      "text/html": [
       "<div>\n",
       "<style scoped>\n",
       "    .dataframe tbody tr th:only-of-type {\n",
       "        vertical-align: middle;\n",
       "    }\n",
       "\n",
       "    .dataframe tbody tr th {\n",
       "        vertical-align: top;\n",
       "    }\n",
       "\n",
       "    .dataframe thead th {\n",
       "        text-align: right;\n",
       "    }\n",
       "</style>\n",
       "<table border=\"1\" class=\"dataframe\">\n",
       "  <thead>\n",
       "    <tr style=\"text-align: right;\">\n",
       "      <th></th>\n",
       "      <th>Position</th>\n",
       "      <th>Artist Name</th>\n",
       "      <th>Song Name</th>\n",
       "      <th>Days</th>\n",
       "      <th>Top 10 (xTimes)</th>\n",
       "      <th>Peak Position</th>\n",
       "      <th>Peak Position (xTimes)</th>\n",
       "      <th>Peak Streams</th>\n",
       "      <th>Total Streams</th>\n",
       "    </tr>\n",
       "  </thead>\n",
       "  <tbody>\n",
       "    <tr>\n",
       "      <th>0</th>\n",
       "      <td>1</td>\n",
       "      <td>Post Malone</td>\n",
       "      <td>Sunflower  SpiderMan: Into the SpiderVerse</td>\n",
       "      <td>1506</td>\n",
       "      <td>302.0</td>\n",
       "      <td>1</td>\n",
       "      <td>(x29)</td>\n",
       "      <td>2118242</td>\n",
       "      <td>883369738</td>\n",
       "    </tr>\n",
       "    <tr>\n",
       "      <th>1</th>\n",
       "      <td>2</td>\n",
       "      <td>Juice WRLD</td>\n",
       "      <td>Lucid Dreams</td>\n",
       "      <td>1673</td>\n",
       "      <td>178.0</td>\n",
       "      <td>1</td>\n",
       "      <td>(x20)</td>\n",
       "      <td>2127668</td>\n",
       "      <td>864832399</td>\n",
       "    </tr>\n",
       "    <tr>\n",
       "      <th>2</th>\n",
       "      <td>3</td>\n",
       "      <td>Lil Uzi Vert</td>\n",
       "      <td>XO TOUR Llif3</td>\n",
       "      <td>1853</td>\n",
       "      <td>212.0</td>\n",
       "      <td>1</td>\n",
       "      <td>(x4)</td>\n",
       "      <td>1660502</td>\n",
       "      <td>781153024</td>\n",
       "    </tr>\n",
       "    <tr>\n",
       "      <th>3</th>\n",
       "      <td>4</td>\n",
       "      <td>J. Cole</td>\n",
       "      <td>No Role Modelz</td>\n",
       "      <td>2547</td>\n",
       "      <td>6.0</td>\n",
       "      <td>7</td>\n",
       "      <td>0</td>\n",
       "      <td>659366</td>\n",
       "      <td>734857487</td>\n",
       "    </tr>\n",
       "    <tr>\n",
       "      <th>4</th>\n",
       "      <td>5</td>\n",
       "      <td>Post Malone</td>\n",
       "      <td>rockstar</td>\n",
       "      <td>1223</td>\n",
       "      <td>186.0</td>\n",
       "      <td>1</td>\n",
       "      <td>(x124)</td>\n",
       "      <td>2905678</td>\n",
       "      <td>718865961</td>\n",
       "    </tr>\n",
       "  </tbody>\n",
       "</table>\n",
       "</div>"
      ],
      "text/plain": [
       "   Position    Artist Name                                   Song Name  Days  \\\n",
       "0         1   Post Malone   Sunflower  SpiderMan: Into the SpiderVerse  1506   \n",
       "1         2    Juice WRLD                                 Lucid Dreams  1673   \n",
       "2         3  Lil Uzi Vert                                XO TOUR Llif3  1853   \n",
       "3         4       J. Cole                               No Role Modelz  2547   \n",
       "4         5   Post Malone                                     rockstar  1223   \n",
       "\n",
       "   Top 10 (xTimes)  Peak Position Peak Position (xTimes)  Peak Streams  \\\n",
       "0            302.0              1                  (x29)       2118242   \n",
       "1            178.0              1                  (x20)       2127668   \n",
       "2            212.0              1                   (x4)       1660502   \n",
       "3              6.0              7                      0        659366   \n",
       "4            186.0              1                 (x124)       2905678   \n",
       "\n",
       "   Total Streams  \n",
       "0      883369738  \n",
       "1      864832399  \n",
       "2      781153024  \n",
       "3      734857487  \n",
       "4      718865961  "
      ]
     },
     "execution_count": 3,
     "metadata": {},
     "output_type": "execute_result"
    }
   ],
   "source": [
    "data.head()"
   ]
  },
  {
   "cell_type": "code",
   "execution_count": 4,
   "id": "ac7a5d26-7e5f-4b1a-82e2-117e93b8118e",
   "metadata": {},
   "outputs": [
    {
     "name": "stdout",
     "output_type": "stream",
     "text": [
      "<class 'pandas.core.frame.DataFrame'>\n",
      "RangeIndex: 11084 entries, 0 to 11083\n",
      "Data columns (total 9 columns):\n",
      " #   Column                  Non-Null Count  Dtype  \n",
      "---  ------                  --------------  -----  \n",
      " 0   Position                11084 non-null  int64  \n",
      " 1   Artist Name             11084 non-null  object \n",
      " 2   Song Name               11080 non-null  object \n",
      " 3   Days                    11084 non-null  int64  \n",
      " 4   Top 10 (xTimes)         11084 non-null  float64\n",
      " 5   Peak Position           11084 non-null  int64  \n",
      " 6   Peak Position (xTimes)  11084 non-null  object \n",
      " 7   Peak Streams            11084 non-null  int64  \n",
      " 8   Total Streams           11084 non-null  int64  \n",
      "dtypes: float64(1), int64(5), object(3)\n",
      "memory usage: 779.5+ KB\n"
     ]
    }
   ],
   "source": [
    "data.info()"
   ]
  },
  {
   "cell_type": "code",
   "execution_count": 5,
   "id": "6da2a2db-946c-4df8-a1fb-03ffe7b8bf61",
   "metadata": {},
   "outputs": [
    {
     "data": {
      "text/plain": [
       "Position                  0\n",
       "Artist Name               0\n",
       "Song Name                 4\n",
       "Days                      0\n",
       "Top 10 (xTimes)           0\n",
       "Peak Position             0\n",
       "Peak Position (xTimes)    0\n",
       "Peak Streams              0\n",
       "Total Streams             0\n",
       "dtype: int64"
      ]
     },
     "execution_count": 5,
     "metadata": {},
     "output_type": "execute_result"
    }
   ],
   "source": [
    "data.isna().sum()"
   ]
  },
  {
   "cell_type": "code",
   "execution_count": 6,
   "id": "3ebf9b27-8047-46e0-ad81-5d605033680a",
   "metadata": {},
   "outputs": [],
   "source": [
    "data= data.dropna(axis=0)"
   ]
  },
  {
   "cell_type": "code",
   "execution_count": 7,
   "id": "52f59ce6-63f2-451d-be02-107b149c92a7",
   "metadata": {},
   "outputs": [],
   "source": [
    "# Removing duplicates\n",
    "data = data.drop_duplicates(subset = \"Song Name\")"
   ]
  },
  {
   "cell_type": "code",
   "execution_count": 8,
   "id": "4c664d87-80c0-4a25-a965-d6fde55e3b01",
   "metadata": {},
   "outputs": [],
   "source": [
    "# Removing space from \"Artist Name\" column\n",
    "data.loc[:, \"Artist Name\"] = data[\"Artist Name\"].str.replace(\" \", \"\")\n"
   ]
  },
  {
   "cell_type": "code",
   "execution_count": 9,
   "id": "f02c6f47-b4f9-4af7-af3b-41821d3799cb",
   "metadata": {},
   "outputs": [],
   "source": [
    "# Combine all columns and assgin as new column\n",
    "data.loc[:, \"data\"] = data.apply(lambda value: \" \".join(value.astype(\"str\")), axis=1)\n"
   ]
  },
  {
   "cell_type": "code",
   "execution_count": 10,
   "id": "35bece1e-7ce3-42f6-a4d3-7f9602c8fdca",
   "metadata": {},
   "outputs": [],
   "source": [
    "# models\n",
    "vectorizer = CountVectorizer()\n",
    "vectorized = vectorizer.fit_transform(data[\"data\"])\n",
    "similarities = cosine_similarity(vectorized)"
   ]
  },
  {
   "cell_type": "code",
   "execution_count": 11,
   "id": "705f98bf-dd1d-498b-a57f-3a1391725130",
   "metadata": {},
   "outputs": [
    {
     "name": "stdout",
     "output_type": "stream",
     "text": [
      "The Top 10 Song Recommendation System\n",
      "-------------------------------------\n",
      "This will generate the 10 songs from the database thoese are similar to the song you entered.\n"
     ]
    },
    {
     "name": "stdin",
     "output_type": "stream",
     "text": [
      "Please enter the name of song:  lover\n"
     ]
    },
    {
     "name": "stdout",
     "output_type": "stream",
     "text": [
      "Sorry, there is no song name in our database. Please try another one.\n"
     ]
    },
    {
     "name": "stdin",
     "output_type": "stream",
     "text": [
      "Please enter the name of song:  karma\n"
     ]
    },
    {
     "name": "stdout",
     "output_type": "stream",
     "text": [
      "Sorry, there is no song name in our database. Please try another one.\n"
     ]
    },
    {
     "name": "stdin",
     "output_type": "stream",
     "text": [
      "Please enter the name of song:  rockstar\n"
     ]
    },
    {
     "name": "stdout",
     "output_type": "stream",
     "text": [
      "You should check out these songs: \n",
      "\n",
      "Reputation\n",
      "Euthanasia\n",
      "Patient\n",
      "Leave\n",
      "ABC\n",
      "Congratulations\n",
      "Playinwitme\n",
      "ily\n",
      "Cooped Up\n",
      "Over Now\n",
      "\n",
      "\n"
     ]
    },
    {
     "name": "stdin",
     "output_type": "stream",
     "text": [
      "Do you want to generate again for the next song? [yes, no]  no\n"
     ]
    }
   ],
   "source": [
    "# Assgin the new dataframe with `similarities` values\n",
    "df_tmp = pd.DataFrame(similarities, columns=data[\"Song Name\"], index=data[\"Song Name\"]).reset_index()\n",
    "\n",
    "true = True\n",
    "while true:\n",
    "    print(\"The Top 10 Song Recommendation System\")\n",
    "    print(\"-------------------------------------\")\n",
    "    print(\"This will generate the 10 songs from the database thoese are similar to the song you entered.\")\n",
    "\n",
    "    # Asking the user for a song, it will loop until the song name is in our database.\n",
    "    while True:\n",
    "        input_song = input(\"Please enter the name of song: \")\n",
    "\n",
    "        if input_song in df_tmp.columns:\n",
    "            recommendation = df_tmp.nlargest(11, input_song)[\"Song Name\"]\n",
    "            break\n",
    "        \n",
    "        else:\n",
    "            print(\"Sorry, there is no song name in our database. Please try another one.\")\n",
    "    \n",
    "    print(\"You should check out these songs: \\n\")\n",
    "    for song in recommendation.values[1:]:\n",
    "        print(song)\n",
    "\n",
    "    print(\"\\n\")\n",
    "    # Asking the user for the next command, it will loop until the right command.\n",
    "    while True:\n",
    "        next_command = input(\"Do you want to generate again for the next song? [yes, no] \")\n",
    "\n",
    "        if next_command == \"yes\":\n",
    "            break\n",
    "\n",
    "        elif next_command == \"no\":\n",
    "            # `true` will be false. It will stop the whole script\n",
    "            true = False\n",
    "            break\n",
    "\n",
    "        else:\n",
    "            print(\"Please type 'yes' or 'no'\")"
   ]
  },
  {
   "cell_type": "code",
   "execution_count": null,
   "id": "739d2d70-0268-45d7-9aef-9569498efa5e",
   "metadata": {},
   "outputs": [],
   "source": []
  }
 ],
 "metadata": {
  "kernelspec": {
   "display_name": "Python 3 (ipykernel)",
   "language": "python",
   "name": "python3"
  },
  "language_info": {
   "codemirror_mode": {
    "name": "ipython",
    "version": 3
   },
   "file_extension": ".py",
   "mimetype": "text/x-python",
   "name": "python",
   "nbconvert_exporter": "python",
   "pygments_lexer": "ipython3",
   "version": "3.12.0"
  }
 },
 "nbformat": 4,
 "nbformat_minor": 5
}
